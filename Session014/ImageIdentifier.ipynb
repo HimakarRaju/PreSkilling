{
 "cells": [
  {
   "cell_type": "code",
   "execution_count": 2,
   "id": "c2df868c-cd0e-40f7-8ae8-c8d6617fd893",
   "metadata": {},
   "outputs": [
    {
     "ename": "ModuleNotFoundError",
     "evalue": "No module named 'cv2'",
     "output_type": "error",
     "traceback": [
      "\u001b[1;31m------------------------------------------------------------\u001b[0m",
      "\u001b[1;31mModuleNotFoundError\u001b[0m        Traceback (most recent call last)",
      "Cell \u001b[1;32mIn[2], line 2\u001b[0m\n\u001b[0;32m      1\u001b[0m \u001b[38;5;28;01mimport\u001b[39;00m \u001b[38;5;21;01mos\u001b[39;00m\n\u001b[1;32m----> 2\u001b[0m \u001b[38;5;28;01mimport\u001b[39;00m \u001b[38;5;21;01mcv2\u001b[39;00m\n\u001b[0;32m      3\u001b[0m \u001b[38;5;28;01mimport\u001b[39;00m \u001b[38;5;21;01mpytesseract\u001b[39;00m\n\u001b[0;32m      4\u001b[0m \u001b[38;5;28;01mfrom\u001b[39;00m \u001b[38;5;21;01mtensorflow\u001b[39;00m\u001b[38;5;21;01m.\u001b[39;00m\u001b[38;5;21;01mkeras\u001b[39;00m\u001b[38;5;21;01m.\u001b[39;00m\u001b[38;5;21;01mapplications\u001b[39;00m \u001b[38;5;28;01mimport\u001b[39;00m MobileNetV2\n",
      "\u001b[1;31mModuleNotFoundError\u001b[0m: No module named 'cv2'"
     ]
    }
   ],
   "source": [
    "import os\n",
    "import cv2\n",
    "import pytesseract\n",
    "from tensorflow.keras.applications import MobileNetV2\n",
    "from tensorflow.keras.applications.mobilenet_v2 import preprocess_input, decode_predictions\n",
    "from tensorflow.keras.preprocessing.image import img_to_array\n",
    "import numpy as np\n",
    "from PIL import Image\n",
    "from prettytable import PrettyTable\n",
    "\n",
    "# Configure pytesseract\n",
    "pytesseract.pytesseract.tesseract_cmd = r'C:\\Program Files\\Tesseract-OCR\\tesseract.exe'  # Update with your path\n",
    "\n",
    "# Load pre-trained MobileNetV2 model for image classification\n",
    "model = MobileNetV2(weights='imagenet')\n",
    "\n",
    "def extract_text_from_image(image_path):\n",
    "    \"\"\"Extract text from image using pytesseract\"\"\"\n",
    "    try:\n",
    "        img = Image.open(image_path)\n",
    "        text = pytesseract.image_to_string(img)\n",
    "        return text.strip()\n",
    "    except Exception as e:\n",
    "        return f\"Error extracting text: {e}\"\n",
    "\n",
    "def identify_objects_in_image(image_path):\n",
    "    \"\"\"Identify objects in an image using MobileNetV2 model\"\"\"\n",
    "    try:\n",
    "        img = cv2.imread(image_path)\n",
    "        img = cv2.cvtColor(img, cv2.COLOR_BGR2RGB)\n",
    "        img_resized = cv2.resize(img, (224, 224))  # Resize to MobileNetV2 input size\n",
    "        img_array = img_to_array(img_resized)\n",
    "        img_array = np.expand_dims(img_array, axis=0)\n",
    "        img_array = preprocess_input(img_array)\n",
    "\n",
    "        # Predict\n",
    "        predictions = model.predict(img_array)\n",
    "        decoded_preds = decode_predictions(predictions, top=3)[0]\n",
    "\n",
    "        # Get top 3 predictions\n",
    "        objects_detected = []\n",
    "        for _, label, prob in decoded_preds:\n",
    "            objects_detected.append(f\"{label} ({prob*100:.2f}%)\")\n",
    "        \n",
    "        return objects_detected\n",
    "    except Exception as e:\n",
    "        return [f\"Error identifying objects: {e}\"]\n",
    "\n",
    "def process_images_in_folder(folder_path):\n",
    "    \"\"\"Process all images in the folder and show results in a tabular format\"\"\"\n",
    "    table = PrettyTable()\n",
    "    table.field_names = [\"Processing Image Name\", \"Extracted Text\", \"Detected Objects\"]\n",
    "    \n",
    "    for file_name in os.listdir(folder_path):\n",
    "        if file_name.lower().endswith(('png', 'jpg', 'jpeg', 'bmp', 'gif')):\n",
    "            image_path = os.path.join(folder_path, file_name)\n",
    "            \n",
    "            # Extract text from image\n",
    "            text = extract_text_from_image(image_path)\n",
    "            \n",
    "            # Identify objects in the image\n",
    "            objects = identify_objects_in_image(image_path)\n",
    "            objects_str = ', '.join(objects) if objects else \"None\"\n",
    "            \n",
    "            # Add row to table\n",
    "            table.add_row([file_name, text, objects_str])\n",
    "    \n",
    "    # Print the table\n",
    "    print(table)\n",
    "\n",
    "if __name__ == \"__main__\":\n",
    "    folder_path = r\"C:\\Users\\kvvn\\OneDrive\\Pictures\"  # Replace with your folder path\n",
    "    process_images_in_folder(folder_path)\n"
   ]
  },
  {
   "cell_type": "code",
   "execution_count": null,
   "id": "f0984ae5-cb0b-41ab-901d-8d4012c26992",
   "metadata": {},
   "outputs": [],
   "source": []
  }
 ],
 "metadata": {
  "kernelspec": {
   "display_name": "Python 3 (ipykernel)",
   "language": "python",
   "name": "python3"
  },
  "language_info": {
   "codemirror_mode": {
    "name": "ipython",
    "version": 3
   },
   "file_extension": ".py",
   "mimetype": "text/x-python",
   "name": "python",
   "nbconvert_exporter": "python",
   "pygments_lexer": "ipython3",
   "version": "3.12.5"
  }
 },
 "nbformat": 4,
 "nbformat_minor": 5
}
