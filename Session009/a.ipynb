{
 "cells": [
  {
   "cell_type": "code",
   "execution_count": null,
   "metadata": {},
   "outputs": [],
   "source": [
    "def graph_suggester(df, categorical_cols, numerical_cols):\n",
    "    suggestions = {}\n",
    "\n",
    "    for col in categorical_cols:\n",
    "        unique_values = df[col].nunique()\n",
    "        if unique_values <= 10:\n",
    "            suggestions[col] = [\"Bar plot\", \"Count Plot\", \"Pie chart\"]\n",
    "        # else:\n",
    "        #     suggestions[col] = ['Word cloud', 'Heatmap']\n",
    "\n",
    "    for col in numerical_cols:\n",
    "        suggestions[col] = [\"Histogram\", \"Boxplot\", \"Scatterplot\"]\n",
    "\n",
    "    for col in df.columns:\n",
    "        if pd.api.types.is_datetime64_any_dtype(df[col]):\n",
    "            suggestions[col] = [\"Time series plot\", \"Line chart\"]\n",
    "\n",
    "    for cat_col in categorical_cols:\n",
    "        for num_col in numerical_cols:\n",
    "            if df[cat_col].nunique() <= 10:\n",
    "                suggestions[f\"{cat_col} vs {num_col}\"] = [\"Scatterplot\", \"Bar plot\"]\n",
    "                print(suggestions)\n",
    "    return suggestions"
   ]
  },
  {
   "cell_type": "code",
   "execution_count": null,
   "metadata": {},
   "outputs": [],
   "source": []
  }
 ],
 "metadata": {
  "kernelspec": {
   "display_name": "Python 3",
   "language": "python",
   "name": "python3"
  },
  "language_info": {
   "codemirror_mode": {
    "name": "ipython",
    "version": 3
   },
   "file_extension": ".py",
   "mimetype": "text/x-python",
   "name": "python",
   "nbconvert_exporter": "python",
   "pygments_lexer": "ipython3",
   "version": "3.12.6"
  }
 },
 "nbformat": 4,
 "nbformat_minor": 2
}
