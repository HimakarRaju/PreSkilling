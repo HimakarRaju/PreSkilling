{
 "cells": [
  {
   "cell_type": "code",
   "execution_count": null,
   "id": "6d9e9264-31f6-40de-b9b6-65f1235cdc5b",
   "metadata": {
    "execution": {
     "iopub.execute_input": "2024-10-09T11:21:27.950504Z",
     "iopub.status.busy": "2024-10-09T11:21:27.950504Z"
    }
   },
   "outputs": [
    {
     "name": "stdout",
     "output_type": "stream",
     "text": [
      "              precision    recall  f1-score   support\n",
      "\n",
      "         0.0       1.00      1.00      1.00     19006\n",
      "\n",
      "    accuracy                           1.00     19006\n",
      "   macro avg       1.00      1.00      1.00     19006\n",
      "weighted avg       1.00      1.00      1.00     19006\n",
      "\n"
     ]
    },
    {
     "name": "stdin",
     "output_type": "stream",
     "text": [
      "Enter a name (or type 'exit' to quit):  Rajesh\n"
     ]
    },
    {
     "name": "stdout",
     "output_type": "stream",
     "text": [
      "The predicted gender for 'Rajesh' is: Female\n"
     ]
    }
   ],
   "source": [
    "import pickle\n",
    "import pandas as pd\n",
    "from sklearn.model_selection import train_test_split\n",
    "from sklearn.ensemble import RandomForestClassifier\n",
    "from sklearn.metrics import classification_report\n",
    "\n",
    "# Load the data\n",
    "rawdata = pd.read_csv('name_gender.csv')\n",
    "\n",
    "# DataFrame setup\n",
    "df = pd.DataFrame(rawdata)\n",
    "\n",
    "# Preprocessing\n",
    "df['name'] = df['name'].str.lower()  # Convert names to lowercase\n",
    "df['name_length'] = df['name'].apply(len)\n",
    "df['initial'] = df['name'].str[0]\n",
    "df['suffix'] = df['name'].str[-1]  # Last character\n",
    "df['vowel_count'] = df['name'].apply(lambda x: sum(1 for char in x if char in 'aeiou'))\n",
    "df['consonant_count'] = df['name'].apply(lambda x: sum(1 for char in x if char not in 'aeiou'))\n",
    "df['vowel_consonant_ratio'] = df['vowel_count'] / df['consonant_count'].replace(0, 1)  # Avoid division by zero\n",
    "\n",
    "\n",
    "# Features and target variable\n",
    "X = df[['name_length', 'vowel_count', 'consonant_count', 'vowel_consonant_ratio']]\n",
    "# Encode gender\n",
    "df['gender'] = df['gender'].map({'female': 0, 'male': 1})\n",
    "y = df['gender'].fillna(0)\n",
    "\n",
    "# Split the data\n",
    "X_train, X_test, y_train, y_test = train_test_split(X, y, test_size=0.2, random_state=42)\n",
    "\n",
    "# Train the Random Forest model\n",
    "model = RandomForestClassifier(random_state=42)\n",
    "model.fit(X_train, y_train)\n",
    "\n",
    "# Make predictions\n",
    "y_pred = model.predict(X_test)\n",
    "\n",
    "# Evaluate performance\n",
    "print(classification_report(y_test, y_pred))\n",
    "\n",
    "# Function for user interaction\n",
    "def predict_gender(name):\n",
    "    # Preprocess the name\n",
    "    name = name.lower()\n",
    "    name_length = len(name)\n",
    "    initial = name[0]\n",
    "    suffix = name[-1]\n",
    "    vowel_count = sum(1 for char in name if char in 'aeiou')\n",
    "    consonant_count = sum(1 for char in name if char not in 'aeiou')\n",
    "    vowel_consonant_ratio = vowel_count / (consonant_count if consonant_count > 0 else 1)  # Avoid division by zero\n",
    "    \n",
    "    # Create a DataFrame for the input\n",
    "    input_data = pd.DataFrame({\n",
    "        'name_length': [name_length],\n",
    "        'vowel_count': [vowel_count],\n",
    "        'consonant_count': [consonant_count],\n",
    "        'vowel_consonant_ratio': [vowel_consonant_ratio]\n",
    "    })\n",
    "    \n",
    "    # Make prediction\n",
    "    prediction = model.predict(input_data)\n",
    "    return 'Male' if prediction[0] == 1 else 'Female'\n",
    "\n",
    "# User interaction loop\n",
    "while True:\n",
    "    user_input = input(\"Enter a name (or type 'exit' to quit): \")\n",
    "    if user_input.lower() == 'exit':\n",
    "        break\n",
    "    predicted_gender = predict_gender(user_input)\n",
    "    print(f\"The predicted gender for '{user_input}' is: {predicted_gender}\")\n"
   ]
  },
  {
   "cell_type": "code",
   "execution_count": null,
   "id": "9ed5dcf5-69ad-4efd-97de-655a24007e1a",
   "metadata": {},
   "outputs": [],
   "source": []
  },
  {
   "cell_type": "code",
   "execution_count": null,
   "id": "e8077def-7a8a-4d68-b6a9-a4e7d25e9a75",
   "metadata": {},
   "outputs": [],
   "source": []
  }
 ],
 "metadata": {
  "kernelspec": {
   "display_name": "Python 3 (ipykernel)",
   "language": "python",
   "name": "python3"
  },
  "language_info": {
   "codemirror_mode": {
    "name": "ipython",
    "version": 3
   },
   "file_extension": ".py",
   "mimetype": "text/x-python",
   "name": "python",
   "nbconvert_exporter": "python",
   "pygments_lexer": "ipython3",
   "version": "3.12.6"
  }
 },
 "nbformat": 4,
 "nbformat_minor": 5
}
